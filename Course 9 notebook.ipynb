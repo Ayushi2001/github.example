{
 "cells": [
  {
   "cell_type": "code",
   "execution_count": 1,
   "metadata": {
    "collapsed": false
   },
   "outputs": [
    {
     "ename": "NameError",
     "evalue": "name 'google_api_key' is not defined",
     "output_type": "error",
     "traceback": [
      "\u001b[0;31m---------------------------------------------------------------------------\u001b[0m",
      "\u001b[0;31mNameError\u001b[0m                                 Traceback (most recent call last)",
      "\u001b[0;32m<ipython-input-1-7f9ad28b3585>\u001b[0m in \u001b[0;36m<module>\u001b[0;34m()\u001b[0m\n\u001b[1;32m     16\u001b[0m \u001b[0;34m\u001b[0m\u001b[0m\n\u001b[1;32m     17\u001b[0m \u001b[0maddress\u001b[0m \u001b[0;34m=\u001b[0m \u001b[0;34m'Alexanderplatz, Berlin, Germany'\u001b[0m\u001b[0;34m\u001b[0m\u001b[0m\n\u001b[0;32m---> 18\u001b[0;31m \u001b[0mberlin_center\u001b[0m \u001b[0;34m=\u001b[0m \u001b[0mget_coordinates\u001b[0m\u001b[0;34m(\u001b[0m\u001b[0mgoogle_api_key\u001b[0m\u001b[0;34m,\u001b[0m \u001b[0maddress\u001b[0m\u001b[0;34m)\u001b[0m\u001b[0;34m\u001b[0m\u001b[0m\n\u001b[0m\u001b[1;32m     19\u001b[0m \u001b[0mprint\u001b[0m\u001b[0;34m(\u001b[0m\u001b[0;34m'Coordinate of {}: {}'\u001b[0m\u001b[0;34m.\u001b[0m\u001b[0mformat\u001b[0m\u001b[0;34m(\u001b[0m\u001b[0maddress\u001b[0m\u001b[0;34m,\u001b[0m \u001b[0mberlin_center\u001b[0m\u001b[0;34m)\u001b[0m\u001b[0;34m)\u001b[0m\u001b[0;34m\u001b[0m\u001b[0m\n",
      "\u001b[0;31mNameError\u001b[0m: name 'google_api_key' is not defined"
     ]
    }
   ],
   "source": [
    "import requests\n",
    "\n",
    "def get_coordinates(api_key, address, verbose=False):\n",
    "    try:\n",
    "        url = 'https://maps.googleapis.com/maps/api/geocode/json?key={}&address={}'.format(api_key, address)\n",
    "        response = requests.get(url).json()\n",
    "        if verbose:\n",
    "            print('Google Maps API JSON result =>', response)\n",
    "        results = response['results']\n",
    "        geographical_data = results[0]['geometry']['location'] # get geographical coordinates\n",
    "        lat = geographical_data['lat']\n",
    "        lon = geographical_data['lng']\n",
    "        return [lat, lon]\n",
    "    except:\n",
    "        return [None, None]\n",
    "    \n",
    "address = 'Abc'\n",
    "india_center = get_coordinates(google_api_key, address)\n",
    "print('Coordinate of {}: {}'.format(address, berlin_center))"
   ]
  },
  {
   "cell_type": "code",
   "execution_count": null,
   "metadata": {
    "collapsed": true
   },
   "outputs": [],
   "source": []
  }
 ],
 "metadata": {
  "kernelspec": {
   "display_name": "Python 3",
   "language": "python",
   "name": "python3"
  },
  "widgets": {
   "state": {},
   "version": "1.1.2"
  }
 },
 "nbformat": 4,
 "nbformat_minor": 0
}
